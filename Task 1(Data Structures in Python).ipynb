{
 "cells": [
  {
   "cell_type": "code",
   "execution_count": 2,
   "id": "33c230fd",
   "metadata": {},
   "outputs": [
    {
     "name": "stdout",
     "output_type": "stream",
     "text": [
      "List Operations\n",
      "Initial List: [1, 2, 3]\n",
      "List after adding 4: [1, 2, 3, 4]\n",
      "List after removing 2: [1, 3, 4]\n",
      "List after modifying element at index 1 to 10: [1, 10, 4]\n"
     ]
    }
   ],
   "source": [
    "# Working with a List\n",
    "print(\"List Operations\")\n",
    "my_list = [1, 2, 3]\n",
    "print(\"Initial List:\", my_list)\n",
    "\n",
    "# Adding an element to the list\n",
    "my_list.append(4)\n",
    "print(\"List after adding 4:\", my_list)\n",
    "\n",
    "# Removing an element from the list\n",
    "my_list.remove(2)\n",
    "print(\"List after removing 2:\", my_list)\n",
    "\n",
    "# Modifying an element in the list\n",
    "my_list[1] = 10\n",
    "print(\"List after modifying element at index 1 to 10:\", my_list)"
   ]
  },
  {
   "cell_type": "code",
   "execution_count": 3,
   "id": "52f38ef2",
   "metadata": {},
   "outputs": [
    {
     "name": "stdout",
     "output_type": "stream",
     "text": [
      "\n",
      "Dictionary Operations\n",
      "Initial Dictionary: {'a': 1, 'b': 2, 'c': 3}\n",
      "Dictionary after adding ('d', 4): {'a': 1, 'b': 2, 'c': 3, 'd': 4}\n",
      "Dictionary after removing key 'b': {'a': 1, 'c': 3, 'd': 4}\n",
      "Dictionary after modifying value of key 'a' to 10: {'a': 10, 'c': 3, 'd': 4}\n"
     ]
    }
   ],
   "source": [
    "# Working with a Dictionary\n",
    "print(\"\\nDictionary Operations\")\n",
    "my_dict = {'a': 1, 'b': 2, 'c': 3}\n",
    "print(\"Initial Dictionary:\", my_dict)\n",
    "\n",
    "# Adding a key-value pair to the dictionary\n",
    "my_dict['d'] = 4\n",
    "print(\"Dictionary after adding ('d', 4):\", my_dict)\n",
    "\n",
    "# Removing a key-value pair from the dictionary\n",
    "del my_dict['b']\n",
    "print(\"Dictionary after removing key 'b':\", my_dict)\n",
    "\n",
    "# Modifying a value in the dictionary\n",
    "my_dict['a'] = 10\n",
    "print(\"Dictionary after modifying value of key 'a' to 10:\", my_dict)"
   ]
  },
  {
   "cell_type": "code",
   "execution_count": 4,
   "id": "ebd1e793",
   "metadata": {},
   "outputs": [
    {
     "name": "stdout",
     "output_type": "stream",
     "text": [
      "\n",
      "Set Operations\n",
      "Initial Set: {1, 2, 3}\n",
      "Set after adding 4: {1, 2, 3, 4}\n",
      "Set after removing 2: {1, 3, 4}\n",
      "Set after adding duplicate 3 (no change): {1, 3, 4}\n"
     ]
    }
   ],
   "source": [
    "# Working with a Set\n",
    "print(\"\\nSet Operations\")\n",
    "my_set = {1, 2, 3}\n",
    "print(\"Initial Set:\", my_set)\n",
    "\n",
    "# Adding an element to the set\n",
    "my_set.add(4)\n",
    "print(\"Set after adding 4:\", my_set)\n",
    "\n",
    "# Removing an element from the set\n",
    "my_set.discard(2)\n",
    "print(\"Set after removing 2:\", my_set)\n",
    "\n",
    "# Attempting to add a duplicate element\n",
    "my_set.add(3)\n",
    "print(\"Set after adding duplicate 3 (no change):\", my_set)"
   ]
  },
  {
   "cell_type": "code",
   "execution_count": null,
   "id": "2c79fed0",
   "metadata": {},
   "outputs": [],
   "source": []
  }
 ],
 "metadata": {
  "kernelspec": {
   "display_name": "Python 3 (ipykernel)",
   "language": "python",
   "name": "python3"
  },
  "language_info": {
   "codemirror_mode": {
    "name": "ipython",
    "version": 3
   },
   "file_extension": ".py",
   "mimetype": "text/x-python",
   "name": "python",
   "nbconvert_exporter": "python",
   "pygments_lexer": "ipython3",
   "version": "3.9.13"
  }
 },
 "nbformat": 4,
 "nbformat_minor": 5
}
